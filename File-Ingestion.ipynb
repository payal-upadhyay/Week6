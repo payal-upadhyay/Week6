{
 "cells": [
  {
   "cell_type": "code",
   "execution_count": 8,
   "id": "2f8d7ba4",
   "metadata": {},
   "outputs": [],
   "source": [
    "import time\n",
    "import os\n"
   ]
  },
  {
   "cell_type": "code",
   "execution_count": 7,
   "id": "fed65de2",
   "metadata": {},
   "outputs": [
    {
     "data": {
      "text/plain": [
       "4378895157"
      ]
     },
     "execution_count": 7,
     "metadata": {},
     "output_type": "execute_result"
    }
   ],
   "source": [
    "#Size of the file in bytes\n",
    "os.path.getsize('chess_games.csv')"
   ]
  },
  {
   "cell_type": "code",
   "execution_count": 13,
   "id": "f7688af2",
   "metadata": {},
   "outputs": [
    {
     "name": "stdout",
     "output_type": "stream",
     "text": [
      "Reading csv with dask takes:  0.040029287338256836 sec\n"
     ]
    }
   ],
   "source": [
    "from dask import dataframe as dd\n",
    "start = time.time()\n",
    "dask_df = dd.read_csv(\"chess_games.csv\")\n",
    "end = time.time()\n",
    "print(\"Reading csv with dask takes: \",(end-start),\"sec\")"
   ]
  },
  {
   "cell_type": "code",
   "execution_count": 8,
   "id": "60fc904b",
   "metadata": {},
   "outputs": [
    {
     "name": "stdout",
     "output_type": "stream",
     "text": [
      "Read csv with pandas:  579.4639246463776 sec\n"
     ]
    }
   ],
   "source": [
    "\n",
    "import pandas as pd\n",
    "start = time.time()\n",
    "df = pd.read_csv(\"chess_games.csv\")\n",
    "end = time.time()\n",
    "print(\"Read csv with pandas: \",(end-start),\"sec\")"
   ]
  },
  {
   "cell_type": "code",
   "execution_count": null,
   "id": "1c786f5d",
   "metadata": {},
   "outputs": [],
   "source": [
    "#Importing with pandas,Modin and Ray took too long"
   ]
  },
  {
   "cell_type": "code",
   "execution_count": null,
   "id": "f7912e0c",
   "metadata": {},
   "outputs": [],
   "source": [
    "#importing with Dask worked the best"
   ]
  },
  {
   "cell_type": "code",
   "execution_count": 14,
   "id": "a5d9e907",
   "metadata": {},
   "outputs": [],
   "source": [
    "from dask import dataframe as dd\n",
    "df = dd.read_csv('chess_games.csv',delimiter=',')"
   ]
  },
  {
   "cell_type": "code",
   "execution_count": 15,
   "id": "24adbdd4",
   "metadata": {},
   "outputs": [
    {
     "name": "stdout",
     "output_type": "stream",
     "text": [
      "<class 'dask.dataframe.core.DataFrame'>\n",
      "Columns: 15 entries, Event to AN\n",
      "dtypes: object(11), float64(2), int64(2)"
     ]
    }
   ],
   "source": [
    "df.info()"
   ]
  },
  {
   "cell_type": "code",
   "execution_count": 16,
   "id": "44acc5c5",
   "metadata": {},
   "outputs": [
    {
     "data": {
      "text/plain": [
       "6256184"
      ]
     },
     "execution_count": 16,
     "metadata": {},
     "output_type": "execute_result"
    }
   ],
   "source": [
    "#No. of Rows\n",
    "len(df.index)"
   ]
  },
  {
   "cell_type": "code",
   "execution_count": 17,
   "id": "86302e0f",
   "metadata": {},
   "outputs": [
    {
     "data": {
      "text/plain": [
       "15"
      ]
     },
     "execution_count": 17,
     "metadata": {},
     "output_type": "execute_result"
    }
   ],
   "source": [
    "#No, of Columns\n",
    "len(df.columns)"
   ]
  },
  {
   "cell_type": "code",
   "execution_count": 18,
   "id": "a2044f22",
   "metadata": {},
   "outputs": [
    {
     "name": "stderr",
     "output_type": "stream",
     "text": [
      "<ipython-input-18-554f595a0ef5>:2: FutureWarning: The default value of regex will change from True to False in a future version.\n",
      "  df.columns=df.columns.str.replace('[#,@,&]','')\n"
     ]
    }
   ],
   "source": [
    "# remove special character\n",
    "df.columns=df.columns.str.replace('[#,@,&]','')"
   ]
  },
  {
   "cell_type": "code",
   "execution_count": 19,
   "id": "569471c2",
   "metadata": {},
   "outputs": [],
   "source": [
    "\n",
    "#To remove white space from columns\n",
    "df.columns = df.columns.str.replace(' ', '')"
   ]
  },
  {
   "cell_type": "code",
   "execution_count": 20,
   "id": "e060b9ab",
   "metadata": {},
   "outputs": [
    {
     "data": {
      "text/plain": [
       "Index(['Event', 'White', 'Black', 'Result', 'UTCDate', 'UTCTime', 'WhiteElo',\n",
       "       'BlackElo', 'WhiteRatingDiff', 'BlackRatingDiff', 'ECO', 'Opening',\n",
       "       'TimeControl', 'Termination', 'AN'],\n",
       "      dtype='object')"
      ]
     },
     "execution_count": 20,
     "metadata": {},
     "output_type": "execute_result"
    }
   ],
   "source": [
    "data=df.columns\n",
    "data"
   ]
  },
  {
   "cell_type": "code",
   "execution_count": 21,
   "id": "01a9721a",
   "metadata": {},
   "outputs": [
    {
     "name": "stdout",
     "output_type": "stream",
     "text": [
      "Overwriting testutility.py\n"
     ]
    }
   ],
   "source": [
    "%%writefile testutility.py\n",
    "import logging\n",
    "import os\n",
    "import subprocess\n",
    "import yaml\n",
    "import pandas as pd\n",
    "import datetime \n",
    "import gc\n",
    "import re\n",
    "\n",
    "\n",
    "################\n",
    "# File Reading #\n",
    "################\n",
    "\n",
    "def read_config_file(filepath):\n",
    "    with open(filepath, 'r') as stream:\n",
    "        try:\n",
    "            return yaml.safe_load(stream)\n",
    "        except yaml.YAMLError as exc:\n",
    "            logging.error(exc)\n",
    "\n",
    "\n",
    "def replacer(string, char):\n",
    "    pattern = char + '{2,}'\n",
    "    string = re.sub(pattern, char, string) \n",
    "    return string\n",
    "\n",
    "def col_header_val(df,table_config):\n",
    "   \n",
    "    \n",
    "    df.columns = df.columns.str.lower()\n",
    "    df.columns = df.columns.str.replace('[^\\w]','_',regex=True)\n",
    "    df.columns = list(map(lambda x: x.strip('_'), list(df.columns)))\n",
    "    df.columns = list(map(lambda x: replacer(x,'_'), list(df.columns)))\n",
    "    expected_col = list(map(lambda x: x.lower(),  table_config['columns']))\n",
    "    expected_col.sort()\n",
    "    df.columns =list(map(lambda x: x.lower(), list(df.columns)))\n",
    "    df = df.reindex(sorted(df.columns), axis=1)\n",
    "    if len(df.columns) == len(expected_col) and list(expected_col)  == list(df.columns):\n",
    "        print(\"column name and column length validation passed\")\n",
    "        return 1\n",
    "    else:\n",
    "        print(\"column name and column length validation failed\")\n",
    "        mismatched_columns_file = list(set(df.columns).difference(expected_col))\n",
    "        print(\"Following File columns are not in the YAML file\",mismatched_columns_file)\n",
    "        missing_YAML_file = list(set(expected_col).difference(df.columns))\n",
    "        print(\"Following YAML columns are not in the file uploaded\",missing_YAML_file)\n",
    "        logging.info(f'df columns: {df.columns}')\n",
    "        logging.info(f'expected columns: {expected_col}')\n",
    "        return 0"
   ]
  },
  {
   "cell_type": "code",
   "execution_count": 22,
   "id": "8219e80a",
   "metadata": {},
   "outputs": [
    {
     "name": "stdout",
     "output_type": "stream",
     "text": [
      "Overwriting file.yaml\n"
     ]
    }
   ],
   "source": [
    "%%writefile file.yaml \n",
    "file_type: csv\n",
    "dataset_name: chess_games\n",
    "file_name: chess_games\n",
    "table_name: chess_games\n",
    "inbound_delimiter: \",\"\n",
    "outbound_delimiter: \",\"\n",
    "skip_leading_rows: 1\n",
    "columns:\n",
    "    - Event\n",
    "    - White\n",
    "    - Black\n",
    "    - Result\n",
    "    - UTCDate\n",
    "    - UTCTime\n",
    "    - WhiteElo\n",
    "    - BlackElo\n",
    "    - WhiteRatingDiff\n",
    "    - BlackRatingDiff\n",
    "    - Opening\n",
    "    - TimeControl\n",
    "    - Termination\n",
    "    - AN"
   ]
  },
  {
   "cell_type": "code",
   "execution_count": 23,
   "id": "00678f2a",
   "metadata": {},
   "outputs": [],
   "source": [
    "# Read config file\n",
    "import testutility as util\n",
    "config_data = util.read_config_file(\"file.yaml\")"
   ]
  },
  {
   "cell_type": "code",
   "execution_count": 24,
   "id": "1d740e84",
   "metadata": {},
   "outputs": [
    {
     "data": {
      "text/plain": [
       "{'file_type': 'csv',\n",
       " 'dataset_name': 'chess_games',\n",
       " 'file_name': 'chess_games',\n",
       " 'table_name': 'chess_games',\n",
       " 'inbound_delimiter': ',',\n",
       " 'outbound_delimiter': ',',\n",
       " 'skip_leading_rows': 1,\n",
       " 'columns': ['Event',\n",
       "  'White',\n",
       "  'Black',\n",
       "  'Result',\n",
       "  'UTCDate',\n",
       "  'UTCTime',\n",
       "  'WhiteElo',\n",
       "  'BlackElo',\n",
       "  'WhiteRatingDiff',\n",
       "  'BlackRatingDiff',\n",
       "  'Opening',\n",
       "  'TimeControl',\n",
       "  'Termination',\n",
       "  'AN']}"
      ]
     },
     "execution_count": 24,
     "metadata": {},
     "output_type": "execute_result"
    }
   ],
   "source": [
    "#inspecting data of config file\n",
    "config_data"
   ]
  },
  {
   "cell_type": "code",
   "execution_count": 25,
   "id": "ddd71717",
   "metadata": {},
   "outputs": [],
   "source": [
    "import pandas as pd"
   ]
  },
  {
   "cell_type": "code",
   "execution_count": 26,
   "id": "bbc1d3d7",
   "metadata": {},
   "outputs": [],
   "source": [
    "\n",
    "file_type= config_data['file_type']\n",
    "source_file= \"./\" + config_data['file_name'] + f'.{file_type}'\n",
    "\n",
    "df= pd.read_csv(source_file, config_data['inbound_delimiter'])\n"
   ]
  },
  {
   "cell_type": "code",
   "execution_count": 27,
   "id": "6352a835",
   "metadata": {},
   "outputs": [
    {
     "name": "stdout",
     "output_type": "stream",
     "text": [
      "column name and column length validation failed\n",
      "Following File columns are not in the YAML file ['eco']\n",
      "Following YAML columns are not in the file uploaded []\n"
     ]
    },
    {
     "data": {
      "text/plain": [
       "0"
      ]
     },
     "execution_count": 27,
     "metadata": {},
     "output_type": "execute_result"
    }
   ],
   "source": [
    "util.col_header_val(df, config_data)"
   ]
  },
  {
   "cell_type": "code",
   "execution_count": 28,
   "id": "550400f3",
   "metadata": {},
   "outputs": [
    {
     "name": "stdout",
     "output_type": "stream",
     "text": [
      "columns of files are: Index(['event', 'white', 'black', 'result', 'utcdate', 'utctime', 'whiteelo',\n",
      "       'blackelo', 'whiteratingdiff', 'blackratingdiff', 'eco', 'opening',\n",
      "       'timecontrol', 'termination', 'an'],\n",
      "      dtype='object')\n",
      "columns of YAML are: ['Event', 'White', 'Black', 'Result', 'UTCDate', 'UTCTime', 'WhiteElo', 'BlackElo', 'WhiteRatingDiff', 'BlackRatingDiff', 'Opening', 'TimeControl', 'Termination', 'AN']\n"
     ]
    }
   ],
   "source": [
    "print(\"columns of files are:\" ,df.columns)\n",
    "print(\"columns of YAML are:\" ,config_data['columns'])"
   ]
  },
  {
   "cell_type": "code",
   "execution_count": 30,
   "id": "3d702193",
   "metadata": {},
   "outputs": [
    {
     "name": "stdout",
     "output_type": "stream",
     "text": [
      "column name and column length validation failed\n",
      "Following File columns are not in the YAML file ['eco']\n",
      "Following YAML columns are not in the file uploaded []\n",
      "validation is failed\n"
     ]
    }
   ],
   "source": [
    "if util.col_header_val(df, config_data)==0:\n",
    "    print(\"validation is failed\")\n",
    "    \n",
    "else:\n",
    "    print(\"validation is passed\")"
   ]
  },
  {
   "cell_type": "code",
   "execution_count": 31,
   "id": "c89ccdd1",
   "metadata": {},
   "outputs": [
    {
     "data": {
      "text/plain": [
       "['C:/Users/Payal/week6/chess_games.csv.gz\\\\00.part',\n",
       " 'C:/Users/Payal/week6/chess_games.csv.gz\\\\01.part',\n",
       " 'C:/Users/Payal/week6/chess_games.csv.gz\\\\02.part',\n",
       " 'C:/Users/Payal/week6/chess_games.csv.gz\\\\03.part',\n",
       " 'C:/Users/Payal/week6/chess_games.csv.gz\\\\04.part',\n",
       " 'C:/Users/Payal/week6/chess_games.csv.gz\\\\05.part',\n",
       " 'C:/Users/Payal/week6/chess_games.csv.gz\\\\06.part',\n",
       " 'C:/Users/Payal/week6/chess_games.csv.gz\\\\07.part',\n",
       " 'C:/Users/Payal/week6/chess_games.csv.gz\\\\08.part',\n",
       " 'C:/Users/Payal/week6/chess_games.csv.gz\\\\09.part',\n",
       " 'C:/Users/Payal/week6/chess_games.csv.gz\\\\10.part',\n",
       " 'C:/Users/Payal/week6/chess_games.csv.gz\\\\11.part',\n",
       " 'C:/Users/Payal/week6/chess_games.csv.gz\\\\12.part',\n",
       " 'C:/Users/Payal/week6/chess_games.csv.gz\\\\13.part',\n",
       " 'C:/Users/Payal/week6/chess_games.csv.gz\\\\14.part',\n",
       " 'C:/Users/Payal/week6/chess_games.csv.gz\\\\15.part',\n",
       " 'C:/Users/Payal/week6/chess_games.csv.gz\\\\16.part',\n",
       " 'C:/Users/Payal/week6/chess_games.csv.gz\\\\17.part',\n",
       " 'C:/Users/Payal/week6/chess_games.csv.gz\\\\18.part',\n",
       " 'C:/Users/Payal/week6/chess_games.csv.gz\\\\19.part',\n",
       " 'C:/Users/Payal/week6/chess_games.csv.gz\\\\20.part',\n",
       " 'C:/Users/Payal/week6/chess_games.csv.gz\\\\21.part',\n",
       " 'C:/Users/Payal/week6/chess_games.csv.gz\\\\22.part',\n",
       " 'C:/Users/Payal/week6/chess_games.csv.gz\\\\23.part',\n",
       " 'C:/Users/Payal/week6/chess_games.csv.gz\\\\24.part',\n",
       " 'C:/Users/Payal/week6/chess_games.csv.gz\\\\25.part',\n",
       " 'C:/Users/Payal/week6/chess_games.csv.gz\\\\26.part',\n",
       " 'C:/Users/Payal/week6/chess_games.csv.gz\\\\27.part',\n",
       " 'C:/Users/Payal/week6/chess_games.csv.gz\\\\28.part',\n",
       " 'C:/Users/Payal/week6/chess_games.csv.gz\\\\29.part',\n",
       " 'C:/Users/Payal/week6/chess_games.csv.gz\\\\30.part',\n",
       " 'C:/Users/Payal/week6/chess_games.csv.gz\\\\31.part',\n",
       " 'C:/Users/Payal/week6/chess_games.csv.gz\\\\32.part',\n",
       " 'C:/Users/Payal/week6/chess_games.csv.gz\\\\33.part',\n",
       " 'C:/Users/Payal/week6/chess_games.csv.gz\\\\34.part',\n",
       " 'C:/Users/Payal/week6/chess_games.csv.gz\\\\35.part',\n",
       " 'C:/Users/Payal/week6/chess_games.csv.gz\\\\36.part',\n",
       " 'C:/Users/Payal/week6/chess_games.csv.gz\\\\37.part',\n",
       " 'C:/Users/Payal/week6/chess_games.csv.gz\\\\38.part',\n",
       " 'C:/Users/Payal/week6/chess_games.csv.gz\\\\39.part',\n",
       " 'C:/Users/Payal/week6/chess_games.csv.gz\\\\40.part',\n",
       " 'C:/Users/Payal/week6/chess_games.csv.gz\\\\41.part',\n",
       " 'C:/Users/Payal/week6/chess_games.csv.gz\\\\42.part',\n",
       " 'C:/Users/Payal/week6/chess_games.csv.gz\\\\43.part',\n",
       " 'C:/Users/Payal/week6/chess_games.csv.gz\\\\44.part',\n",
       " 'C:/Users/Payal/week6/chess_games.csv.gz\\\\45.part',\n",
       " 'C:/Users/Payal/week6/chess_games.csv.gz\\\\46.part',\n",
       " 'C:/Users/Payal/week6/chess_games.csv.gz\\\\47.part',\n",
       " 'C:/Users/Payal/week6/chess_games.csv.gz\\\\48.part',\n",
       " 'C:/Users/Payal/week6/chess_games.csv.gz\\\\49.part',\n",
       " 'C:/Users/Payal/week6/chess_games.csv.gz\\\\50.part',\n",
       " 'C:/Users/Payal/week6/chess_games.csv.gz\\\\51.part',\n",
       " 'C:/Users/Payal/week6/chess_games.csv.gz\\\\52.part',\n",
       " 'C:/Users/Payal/week6/chess_games.csv.gz\\\\53.part',\n",
       " 'C:/Users/Payal/week6/chess_games.csv.gz\\\\54.part',\n",
       " 'C:/Users/Payal/week6/chess_games.csv.gz\\\\55.part',\n",
       " 'C:/Users/Payal/week6/chess_games.csv.gz\\\\56.part',\n",
       " 'C:/Users/Payal/week6/chess_games.csv.gz\\\\57.part',\n",
       " 'C:/Users/Payal/week6/chess_games.csv.gz\\\\58.part',\n",
       " 'C:/Users/Payal/week6/chess_games.csv.gz\\\\59.part',\n",
       " 'C:/Users/Payal/week6/chess_games.csv.gz\\\\60.part',\n",
       " 'C:/Users/Payal/week6/chess_games.csv.gz\\\\61.part',\n",
       " 'C:/Users/Payal/week6/chess_games.csv.gz\\\\62.part',\n",
       " 'C:/Users/Payal/week6/chess_games.csv.gz\\\\63.part',\n",
       " 'C:/Users/Payal/week6/chess_games.csv.gz\\\\64.part',\n",
       " 'C:/Users/Payal/week6/chess_games.csv.gz\\\\65.part',\n",
       " 'C:/Users/Payal/week6/chess_games.csv.gz\\\\66.part',\n",
       " 'C:/Users/Payal/week6/chess_games.csv.gz\\\\67.part',\n",
       " 'C:/Users/Payal/week6/chess_games.csv.gz\\\\68.part']"
      ]
     },
     "execution_count": 31,
     "metadata": {},
     "output_type": "execute_result"
    }
   ],
   "source": [
    "import datetime\n",
    "import csv\n",
    "import gzip\n",
    "\n",
    "from dask import dataframe as dd\n",
    "df = dd.read_csv(\"chess_games.csv\",delimiter=',')\n",
    "\n",
    "# Write csv in gz format in pipe separated text file (|)\n",
    "df.to_csv('chess_games.csv.gz',\n",
    "          sep='|',\n",
    "          header=True,\n",
    "          index=False,\n",
    "          quoting=csv.QUOTE_ALL,\n",
    "          compression='gzip',\n",
    "          quotechar='\"',\n",
    "          doublequote=True,\n",
    "          line_terminator='\\n')"
   ]
  },
  {
   "cell_type": "code",
   "execution_count": 32,
   "id": "62f4a75a",
   "metadata": {},
   "outputs": [
    {
     "data": {
      "text/plain": [
       "28672"
      ]
     },
     "execution_count": 32,
     "metadata": {},
     "output_type": "execute_result"
    }
   ],
   "source": [
    "#size of the gz format folder in bytes\n",
    "os.path.getsize('chess_games.csv.gz')"
   ]
  },
  {
   "cell_type": "code",
   "execution_count": 33,
   "id": "b95301cd",
   "metadata": {},
   "outputs": [
    {
     "name": "stdout",
     "output_type": "stream",
     "text": [
      "<class 'dask.dataframe.core.DataFrame'>\n",
      "Columns: 15 entries, Event to AN\n",
      "dtypes: object(11), float64(2), int64(2)"
     ]
    }
   ],
   "source": [
    "df.info()"
   ]
  },
  {
   "cell_type": "code",
   "execution_count": 34,
   "id": "bc4973d6",
   "metadata": {},
   "outputs": [
    {
     "data": {
      "text/plain": [
       "Index(['Event', 'White', 'Black', 'Result', 'UTCDate', 'UTCTime', 'WhiteElo',\n",
       "       'BlackElo', 'WhiteRatingDiff', 'BlackRatingDiff', 'ECO', 'Opening',\n",
       "       'TimeControl', 'Termination', 'AN'],\n",
       "      dtype='object')"
      ]
     },
     "execution_count": 34,
     "metadata": {},
     "output_type": "execute_result"
    }
   ],
   "source": [
    "data=df.columns\n",
    "data"
   ]
  },
  {
   "cell_type": "code",
   "execution_count": 35,
   "id": "c87779c9",
   "metadata": {},
   "outputs": [
    {
     "data": {
      "text/plain": [
       "15"
      ]
     },
     "execution_count": 35,
     "metadata": {},
     "output_type": "execute_result"
    }
   ],
   "source": [
    "#No, of Columns\n",
    "len(df.columns)"
   ]
  },
  {
   "cell_type": "code",
   "execution_count": 36,
   "id": "4fd5a4ab",
   "metadata": {},
   "outputs": [
    {
     "data": {
      "text/plain": [
       "6256184"
      ]
     },
     "execution_count": 36,
     "metadata": {},
     "output_type": "execute_result"
    }
   ],
   "source": [
    "#No. of Rows\n",
    "len(df.index)"
   ]
  },
  {
   "cell_type": "code",
   "execution_count": null,
   "id": "8f34aae6",
   "metadata": {},
   "outputs": [],
   "source": []
  }
 ],
 "metadata": {
  "kernelspec": {
   "display_name": "Python 3",
   "language": "python",
   "name": "python3"
  },
  "language_info": {
   "codemirror_mode": {
    "name": "ipython",
    "version": 3
   },
   "file_extension": ".py",
   "mimetype": "text/x-python",
   "name": "python",
   "nbconvert_exporter": "python",
   "pygments_lexer": "ipython3",
   "version": "3.8.8"
  }
 },
 "nbformat": 4,
 "nbformat_minor": 5
}
